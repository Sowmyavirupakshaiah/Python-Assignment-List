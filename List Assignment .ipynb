{
 "cells": [
  {
   "cell_type": "markdown",
   "id": "e15f7652",
   "metadata": {},
   "source": [
    "# 1) Select all the correct options to join two lists.\n",
    "      listOne =  ['a', 'b', 'c', 'd']\n",
    "      listTwo =  ['e', 'f', 'g']                                                                                             \n",
    "a)\tnewList = listOne + listTwo                                                                                                 \n",
    "b)\tnewList = extend(listOne, listTwo)                                                                                       \n",
    "c)\tnewList = listOne.extend(listTwo)                                                                                         \n",
    "d)\tnewList.extend(listOne, listTwo)                                                                                         \n"
   ]
  },
  {
   "cell_type": "code",
   "execution_count": 1,
   "id": "7adb03c2",
   "metadata": {},
   "outputs": [
    {
     "name": "stdout",
     "output_type": "stream",
     "text": [
      "['a', 'b', 'c', 'd', 'e', 'f', 'g']\n"
     ]
    }
   ],
   "source": [
    "listOne =  ['a', 'b', 'c', 'd']\n",
    "listTwo =  ['e', 'f', 'g']  \n",
    "newList = listOne + listTwo\n",
    "print(newList)"
   ]
  },
  {
   "cell_type": "code",
   "execution_count": 2,
   "id": "c0a4a8d2",
   "metadata": {},
   "outputs": [
    {
     "name": "stdout",
     "output_type": "stream",
     "text": [
      "['a', 'b', 'c', 'd', 'e', 'f', 'g']\n"
     ]
    }
   ],
   "source": [
    "newList1 = listOne.extend(listTwo)\n",
    "print(newList)"
   ]
  },
  {
   "cell_type": "markdown",
   "id": "fdc956aa",
   "metadata": {},
   "source": [
    "**Ans: a) newList = listOne + listTwo                                                                                             \n",
    "     c) newList = listOne.extend(listTwo)**\n"
   ]
  },
  {
   "cell_type": "markdown",
   "id": "7c455438",
   "metadata": {},
   "source": [
    "# 2) Create an list of elements and execute the following functions: reverse, append, extend, count,sort."
   ]
  },
  {
   "cell_type": "markdown",
   "id": "88961c5d",
   "metadata": {},
   "source": [
    "**Reverse**"
   ]
  },
  {
   "cell_type": "code",
   "execution_count": 9,
   "id": "18eef853",
   "metadata": {},
   "outputs": [
    {
     "name": "stdout",
     "output_type": "stream",
     "text": [
      "Original List: ['Dollar', 'Euro', 'Pound']\n",
      "Updated List: ['Pound', 'Euro', 'Dollar']\n"
     ]
    }
   ],
   "source": [
    "#input list\n",
    "list=['Dollar', 'Euro', 'Pound']\n",
    "#To reverse List\n",
    "print('Original List:', list)\n",
    "# List Reverse\n",
    "list.reverse()\n",
    "print('Updated List:', list)"
   ]
  },
  {
   "cell_type": "markdown",
   "id": "dc7550ad",
   "metadata": {},
   "source": [
    "**Append**"
   ]
  },
  {
   "cell_type": "code",
   "execution_count": 8,
   "id": "25d37229",
   "metadata": {},
   "outputs": [
    {
     "name": "stdout",
     "output_type": "stream",
     "text": [
      "Original List: ['Dollar', 'Euro', 'Pound']\n",
      "Updated List: ['Dollar', 'Euro', 'Pound', 'Yen']\n"
     ]
    }
   ],
   "source": [
    "list1=['Dollar', 'Euro', 'Pound']\n",
    "print('Original List:', list1)\n",
    "# append 'Yen' to the list\n",
    "list1.append('Yen')\n",
    "print('Updated List:', list1)"
   ]
  },
  {
   "cell_type": "markdown",
   "id": "92b6fca2",
   "metadata": {},
   "source": [
    "**Extend**"
   ]
  },
  {
   "cell_type": "code",
   "execution_count": 10,
   "id": "cd002b31",
   "metadata": {},
   "outputs": [
    {
     "name": "stdout",
     "output_type": "stream",
     "text": [
      "Currency List: ['Dollar', 'Euro', 'Pound', 'Dinar', 'Lek', 'Indian Rupee']\n"
     ]
    }
   ],
   "source": [
    "# languages list\n",
    "List_1=['Dollar', 'Euro', 'Pound']\n",
    "\n",
    "# another list of Currencies\n",
    "List_2=['Dinar', 'Lek', 'Indian Rupee']\n",
    "\n",
    "# appending List_1 elements to List_2\n",
    "List_1.extend(List_2)\n",
    "\n",
    "\n",
    "print('Currency List:', List_1)"
   ]
  },
  {
   "cell_type": "markdown",
   "id": "7b5b17fa",
   "metadata": {},
   "source": [
    "**count**"
   ]
  },
  {
   "cell_type": "code",
   "execution_count": 11,
   "id": "d20999ee",
   "metadata": {},
   "outputs": [
    {
     "name": "stdout",
     "output_type": "stream",
     "text": [
      "The count of i is: 2\n",
      "The count of p is: 0\n"
     ]
    }
   ],
   "source": [
    "vowels = ['a', 'e', 'i', 'o', 'i', 'u']\n",
    "\n",
    "# count element 'i'\n",
    "count = vowels.count('i')\n",
    "# print count\n",
    "print('The count of i is:', count)\n",
    "# count element 'p'\n",
    "count = vowels.count('p')\n",
    "# print count\n",
    "print('The count of p is:', count)"
   ]
  },
  {
   "cell_type": "markdown",
   "id": "9ef20e09",
   "metadata": {},
   "source": [
    "**Sort**"
   ]
  },
  {
   "cell_type": "code",
   "execution_count": 17,
   "id": "323a4a28",
   "metadata": {},
   "outputs": [
    {
     "name": "stdout",
     "output_type": "stream",
     "text": [
      "Sorted list (in Ascending): ['a', 'e', 'i', 'o', 'u']\n",
      "Sorted list(in Descending): ['u', 'o', 'i', 'e', 'a']\n"
     ]
    }
   ],
   "source": [
    "vowels = ['e', 'a', 'u', 'o', 'i']\n",
    "# sort the vowels\n",
    "vowels.sort()\n",
    "# print vowels\n",
    "print('Sorted list (in Ascending):', vowels)\n",
    "vowels.sort(reverse=True)\n",
    "# print vowels\n",
    "print('Sorted list(in Descending):', vowels)"
   ]
  },
  {
   "cell_type": "markdown",
   "id": "868c11a3",
   "metadata": {},
   "source": [
    "# 3)  Write a Python program to print a specified list after removing the 0th, 4th and 5th elements.\n",
    "**Sample List : ['Red', 'Green', 'White', 'Black', 'Pink', 'Yellow']**                                                         \n",
    "**Expected Output : ['Green', 'White', 'Black']**\n"
   ]
  },
  {
   "cell_type": "code",
   "execution_count": 18,
   "id": "0abc3b16",
   "metadata": {},
   "outputs": [
    {
     "name": "stdout",
     "output_type": "stream",
     "text": [
      "['Green', 'White', 'Black']\n"
     ]
    }
   ],
   "source": [
    "color = ['Red', 'Green', 'White', 'Black', 'Pink', 'Yellow']\n",
    "color = [x for (i,x) in enumerate(color) if i not in (0,4,5)]\n",
    "print(color)"
   ]
  },
  {
   "cell_type": "markdown",
   "id": "994bcfff",
   "metadata": {},
   "source": [
    "# 4) What is the output of the following list operation"
   ]
  },
  {
   "cell_type": "code",
   "execution_count": 19,
   "id": "f6459fdd",
   "metadata": {},
   "outputs": [
    {
     "name": "stdout",
     "output_type": "stream",
     "text": [
      "[30, 40, 50]\n",
      "[10, 20, 30, 40]\n",
      "[40, 50, 60, 70, 80]\n"
     ]
    }
   ],
   "source": [
    "aList = [10, 20, 30, 40, 50, 60, 70, 80]\n",
    "print(aList[2:5])\n",
    "print(aList[:4])\n",
    "print(aList[3:])"
   ]
  },
  {
   "cell_type": "markdown",
   "id": "99a6b56d",
   "metadata": {},
   "source": [
    "# 5) Select all the correct options to copy a list\n",
    "         aList = ['a', 'b', 'c', 'd']                                                                                           \n",
    "a)\tnewList = copy(aList)                                                                                                       \n",
    "b)\tnewList = aList.copy()                                                                                                   \n",
    "c)\tnewList.copy(aList)                                                                                                       \n",
    "d)\tnewList = list(aList)                                                                                                     \n",
    "\n"
   ]
  },
  {
   "cell_type": "code",
   "execution_count": 21,
   "id": "7b98c3f9",
   "metadata": {},
   "outputs": [
    {
     "name": "stdout",
     "output_type": "stream",
     "text": [
      "['a', 'b', 'c', 'd']\n"
     ]
    }
   ],
   "source": [
    "aList = ['a', 'b', 'c', 'd']\n",
    "newList = aList.copy()\n",
    "print(newList)"
   ]
  },
  {
   "cell_type": "markdown",
   "id": "2ad8d26e",
   "metadata": {},
   "source": [
    "**Ans:b)newList = aList.copy()**"
   ]
  },
  {
   "cell_type": "markdown",
   "id": "3079cb2f",
   "metadata": {},
   "source": [
    "# 6) Create an list of elements and slice & dice it."
   ]
  },
  {
   "cell_type": "code",
   "execution_count": 28,
   "id": "8c6ec158",
   "metadata": {},
   "outputs": [
    {
     "name": "stdout",
     "output_type": "stream",
     "text": [
      "['hallway', 11.25, 'kitchen', 18.0, 'living room', 20.0]\n",
      "['bedroom', 10.75, 'bathroom', 9.5]\n"
     ]
    }
   ],
   "source": [
    "areas = [\"hallway\", 11.25, \"kitchen\", 18.0, \"living room\", 20.0, \"bedroom\", 10.75, \"bathroom\", 9.50]\n",
    "downstairs = areas[:6]\n",
    "upstairs = areas[6:]\n",
    "print(downstairs)\n",
    "print(upstairs)"
   ]
  },
  {
   "cell_type": "markdown",
   "id": "7b20d9d2",
   "metadata": {},
   "source": [
    "# 7) Given a Python list you should be able to display Python list in the following order\n",
    "aLsit = [100, 200, 300, 400, 500]"
   ]
  },
  {
   "cell_type": "code",
   "execution_count": 29,
   "id": "c6c069a0",
   "metadata": {},
   "outputs": [
    {
     "name": "stdout",
     "output_type": "stream",
     "text": [
      "[500, 400, 300, 200, 100]\n"
     ]
    }
   ],
   "source": [
    "aLsit  = [100, 200, 300, 400, 500]\n",
    "aLsit .reverse()\n",
    "print(aLsit )"
   ]
  },
  {
   "cell_type": "markdown",
   "id": "c00075b4",
   "metadata": {},
   "source": [
    "# 8) What will be the output of the following code snippet?"
   ]
  },
  {
   "cell_type": "code",
   "execution_count": 30,
   "id": "6d3cac27",
   "metadata": {},
   "outputs": [
    {
     "name": "stdout",
     "output_type": "stream",
     "text": [
      "[4, 3, 2]\n"
     ]
    }
   ],
   "source": [
    "a=[1,2,3,4,5]         \n",
    "print(a[3:0:-1])"
   ]
  },
  {
   "cell_type": "markdown",
   "id": "03c4f923",
   "metadata": {},
   "source": [
    "# 9) Add item 7000 after 6000 in the following Python List\n",
    "list1 = [10, 20, [300, 400, [5000, 6000], 500], 30, 40]"
   ]
  },
  {
   "cell_type": "code",
   "execution_count": 31,
   "id": "2584dab6",
   "metadata": {},
   "outputs": [
    {
     "name": "stdout",
     "output_type": "stream",
     "text": [
      "[10, 20, [300, 400, [5000, 6000, 7000], 500], 30, 40]\n"
     ]
    }
   ],
   "source": [
    "list1 = [10, 20, [300, 400, [5000, 6000], 500], 30, 40]\n",
    "list1[2][2].append(7000)\n",
    "print(list1)"
   ]
  }
 ],
 "metadata": {
  "kernelspec": {
   "display_name": "Python 3 (ipykernel)",
   "language": "python",
   "name": "python3"
  },
  "language_info": {
   "codemirror_mode": {
    "name": "ipython",
    "version": 3
   },
   "file_extension": ".py",
   "mimetype": "text/x-python",
   "name": "python",
   "nbconvert_exporter": "python",
   "pygments_lexer": "ipython3",
   "version": "3.9.7"
  }
 },
 "nbformat": 4,
 "nbformat_minor": 5
}
